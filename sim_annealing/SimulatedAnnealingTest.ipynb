{
 "cells": [
  {
   "cell_type": "code",
   "execution_count": 1,
   "metadata": {},
   "outputs": [],
   "source": [
    "import random"
   ]
  },
  {
   "cell_type": "code",
   "execution_count": 2,
   "metadata": {},
   "outputs": [],
   "source": [
    "def choose(n, k):\n",
    "    \"\"\"\n",
    "    A fast way to calculate binomial coefficients by Andrew Dalke (contrib).\n",
    "    \"\"\"\n",
    "    if 0 <= k <= n:\n",
    "        ntok = 1\n",
    "        ktok = 1\n",
    "        for t in range(1, min(k, n - k) + 1):\n",
    "            ntok *= n\n",
    "            ktok *= t\n",
    "            n -= 1\n",
    "        return ntok // ktok\n",
    "    else:\n",
    "        return 0"
   ]
  },
  {
   "cell_type": "code",
   "execution_count": 3,
   "metadata": {},
   "outputs": [],
   "source": [
    "class Groups:\n",
    "    def __init__(self, players_list):\n",
    "        self.players = set(players_list)\n",
    "        self.groups = self.random_grps(self.players)\n",
    "        self.checkpoint = []\n",
    "        #self.max_groups = self.max_groups(len(self.players))\n",
    "        if not self.groups:\n",
    "            raise ValueError(\"random groups not initiated\")\n",
    "\n",
    "    def __str__(self):\n",
    "        return \"Groups: {}\".format(self.groups)\n",
    "    \n",
    "    def loss(self):\n",
    "        return 0 # replace with function to minimize\n",
    "\n",
    "    def random_grps(self, players_list, grouped=None):\n",
    "        \"\"\"\n",
    "        Takes a set of players, returns a list of groups {set}\n",
    "        \"\"\"\n",
    "        players = players_list.copy()\n",
    "        if len(players) == 1:\n",
    "            return []\n",
    "        if len(players) == 3:\n",
    "            try:\n",
    "                grouped.append(players)\n",
    "            except AttributeError:\n",
    "                grouped = [players]\n",
    "            return grouped\n",
    "        if not players:\n",
    "            return grouped\n",
    "\n",
    "        max_players = 10 if len(players) > 9 else len(players) + 1\n",
    "        grp_size = random.randrange(2, max_players)\n",
    "        # choose random numbers until grp_size valid\n",
    "        while (len(players) - grp_size == 1):\n",
    "            grp_size = random.randrange(2, max_players)\n",
    "            \n",
    "        group = set(random.sample(players, grp_size))\n",
    "        if not grouped:\n",
    "            grouped = [group]\n",
    "        else:\n",
    "            grouped.append(group)\n",
    "        return self.random_grps(players.difference(group), grouped)\n",
    "\n",
    "    # Acts on data members\n",
    "    def random_swap(self, group1, group2):\n",
    "        player1 = random.choice(list(group1))\n",
    "        player2 = random.choice(list(group2))\n",
    "        g1, g2 = group1.copy(), group2.copy()\n",
    "        _replace(group1, player1, player2)\n",
    "        _replace(group2, player2, player1)\n",
    "        assert(g1!=group1)\n",
    "        assert(g2!=group2)\n",
    "        self.checkpoint = [(g1, group1), (g2, group2)]\n",
    "    \n",
    "    def undo_swap(self):\n",
    "        old_g1, curr_g1 = self.checkpoint[0]\n",
    "        old_g2, curr_g2 = self.checkpoint[1]\n",
    "        _replace(self.groups, curr_g1, old_g1)\n",
    "        _replace(self.groups, curr_g2, old_g2)\n",
    "        assert(old_g1 in self.groups)\n",
    "        assert(old_g2 in self.groups)\n",
    "\n",
    "    def max_groups(self, num_players):\n",
    "        if num_players == 2 or num_players == 3:\n",
    "            return 1\n",
    "        maxn = 0\n",
    "        for i in range(num_players//2 + 1):\n",
    "            if i == (num_players-1) or i == 1:\n",
    "                continue\n",
    "            if i == 0 and num_players <= 9:\n",
    "                maxn += 1\n",
    "            else:\n",
    "                # eliminate complementary chooses, so halve 4C2, 6C3, etc.\n",
    "                comb = (choose(num_players, i) if (i != num_players / 2)\n",
    "                        else choose(num_players, i) // 2)\n",
    "                maxn += comb * self.max_groups(num_players-i)\n",
    "        return maxn\n",
    "    \n",
    "def _replace(container, elem1, elem2):\n",
    "    container.remove(elem1)\n",
    "    try:\n",
    "        container.add(elem2)\n",
    "    except AttributeError:\n",
    "        container.append(elem2)"
   ]
  },
  {
   "cell_type": "code",
   "execution_count": 4,
   "metadata": {},
   "outputs": [],
   "source": [
    "class SimulatedAnnealing:\n",
    "    def __init__(self, players_list, has_criteria=False):\n",
    "        \"\"\" If we also care about other criteria besides uniqueness, has_criteria=True\"\"\"\n",
    "        self.start_state = Groups(players_list)\n",
    "        self.previous_groups = [self.start_state]\n",
    "        self.current_state = Groups(players_list)\n",
    "        self.other_criteria = has_criteria\n",
    "    \n",
    "    def _find_non_unique(self, state):\n",
    "        return [group for group in state.groups if group in self.previous_groups]\n",
    "    \n",
    "    def generate(self):\n",
    "#         if not self.other_criteria:\n",
    "        yield self.start_state\n",
    "        while True:\n",
    "            non_unique = self._find_non_unique(self.current_state)\n",
    "            while non_unique:\n",
    "                if len(non_unique) >= 2:\n",
    "                    group1, group2 = random.sample(non_unique, 2)\n",
    "                else:\n",
    "                    group1 = non_unique[0]\n",
    "                    group2 = random.choice(self.current_state.groups)\n",
    "                self.current_state.random_swap(group1, group2)\n",
    "                non_unique = self._find_non_unique(self.current_state)\n",
    "            self.previous_groups.append(self.current_state)\n",
    "            yield self.current_state\n",
    "    \n",
    "    def energy(self, state):\n",
    "        for group in state.groups:\n",
    "            if group in self.previous_groups:\n",
    "                return float('inf')\n",
    "        return 0"
   ]
  },
  {
   "cell_type": "code",
   "execution_count": 5,
   "metadata": {},
   "outputs": [],
   "source": [
    "players = {1, 3, 5, 6, 9, 7, 11, 12, 8, 4}"
   ]
  },
  {
   "cell_type": "code",
   "execution_count": 6,
   "metadata": {},
   "outputs": [],
   "source": [
    "g = Groups(players)"
   ]
  },
  {
   "cell_type": "code",
   "execution_count": 7,
   "metadata": {},
   "outputs": [
    {
     "name": "stdout",
     "output_type": "stream",
     "text": [
      "Groups: [{3, 4, 6, 7, 8, 11, 12}, {1, 5, 9}]\n"
     ]
    }
   ],
   "source": [
    "print(g)"
   ]
  },
  {
   "cell_type": "code",
   "execution_count": 8,
   "metadata": {},
   "outputs": [
    {
     "name": "stdout",
     "output_type": "stream",
     "text": [
      "Groups: [{3, 4, 5, 6, 7, 11, 12}, {8, 1, 9}]\n"
     ]
    }
   ],
   "source": [
    "g.random_swap(g.groups[0], g.groups[1])\n",
    "print(g)"
   ]
  },
  {
   "cell_type": "code",
   "execution_count": 9,
   "metadata": {},
   "outputs": [
    {
     "name": "stdout",
     "output_type": "stream",
     "text": [
      "Groups: [{3, 4, 6, 7, 8, 11, 12}, {1, 5, 9}]\n"
     ]
    }
   ],
   "source": [
    "g.undo_swap()\n",
    "print(g)"
   ]
  },
  {
   "cell_type": "code",
   "execution_count": 10,
   "metadata": {},
   "outputs": [],
   "source": [
    "s = SimulatedAnnealing(players)"
   ]
  },
  {
   "cell_type": "code",
   "execution_count": 11,
   "metadata": {},
   "outputs": [
    {
     "name": "stdout",
     "output_type": "stream",
     "text": [
      "Groups: [{1, 5, 7}, {11, 4, 12}, {8, 6}, {9, 3}]\n"
     ]
    }
   ],
   "source": [
    "print(s.start_state)"
   ]
  },
  {
   "cell_type": "code",
   "execution_count": 12,
   "metadata": {},
   "outputs": [],
   "source": [
    "y = s.generate()"
   ]
  },
  {
   "cell_type": "code",
   "execution_count": 13,
   "metadata": {},
   "outputs": [
    {
     "name": "stdout",
     "output_type": "stream",
     "text": [
      "Groups: [{1, 5, 7}, {11, 4, 12}, {8, 6}, {9, 3}]\n"
     ]
    }
   ],
   "source": [
    "print(next(y))"
   ]
  },
  {
   "cell_type": "code",
   "execution_count": null,
   "metadata": {},
   "outputs": [],
   "source": []
  }
 ],
 "metadata": {
  "kernelspec": {
   "display_name": "Python 3",
   "language": "python",
   "name": "python3"
  },
  "language_info": {
   "codemirror_mode": {
    "name": "ipython",
    "version": 3
   },
   "file_extension": ".py",
   "mimetype": "text/x-python",
   "name": "python",
   "nbconvert_exporter": "python",
   "pygments_lexer": "ipython3",
   "version": "3.6.4"
  }
 },
 "nbformat": 4,
 "nbformat_minor": 2
}
